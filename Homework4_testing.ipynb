{
 "cells": [
  {
   "cell_type": "code",
   "execution_count": 1,
   "metadata": {
    "collapsed": false
   },
   "outputs": [],
   "source": [
    "from pronto_utils import *"
   ]
  },
  {
   "cell_type": "code",
   "execution_count": 2,
   "metadata": {
    "collapsed": false
   },
   "outputs": [],
   "source": [
    "a = download_if_needed('https://s3.amazonaws.com/pronto-data/open_data_year_one.zip', 'open_data_year_one.zip')"
   ]
  },
  {
   "cell_type": "code",
   "execution_count": 3,
   "metadata": {
    "collapsed": false
   },
   "outputs": [
    {
     "name": "stdout",
     "output_type": "stream",
     "text": [
      "open_data_year_one.zip already exists\n"
     ]
    }
   ],
   "source": [
    "print(a)"
   ]
  },
  {
   "cell_type": "code",
   "execution_count": null,
   "metadata": {
    "collapsed": true
   },
   "outputs": [],
   "source": [
    "import os\n",
    "\n",
    "import wget\n",
    "import zipfile \n",
    "\n",
    "from urllib.request import urlopen, URLError\n",
    "import matplotlib.pyplot as plt\n",
    "import pandas as pd\n",
    "\n",
    "\n",
    "def download_if_needed(url, filename):\n",
    "\n",
    "\"\"\" Downloads the data from a given URL, if not already present in the directory, or displays any of the following:\n",
    "        1. The file already exists\n",
    "        2. URL does not exist\n",
    "        3. Server is not responding\n",
    "    \"\"\"\n",
    "\n",
    "    if os.path.exists(filename):\n",
    "        explanation = filename+ ' already exists'\n",
    "        return explanation\n",
    "    else:\n",
    "        try:\n",
    "            r = urlopen(url)\n",
    "        except URLError as e:\n",
    "            r = e\n",
    "        if r.code < 400:\n",
    "            wget.download(url)\n",
    "            explanation = 'downloading'\n",
    "            return explanation\n",
    "        elif r.code>=400 and r.code<500:\n",
    "            explanation = 'Url does not exist'\n",
    "            return explanation\n",
    "        else:\n",
    "            explanation = 'Server is not responding'\n",
    "            return explanation\n",
    "\n",
    "        \n",
    "def get_pronto_data():\n",
    "\n",
    "    \"\"\" Downloads the Pronto bike data if not present in directory.\"\"\"\n",
    "\n",
    "    download_if_needed('https://s3.amazonaws.com/pronto-data/open_data_year_one.zip', 'open_data_year_one.zip')\n",
    "\n",
    "    \n",
    "def get_trip_data():\n",
    "\n",
    "    \"\"\" Unzips the Pronto bike data zip folder and returns the trip data csv file from it.\"\"\"\n",
    "    \n",
    "    get_pronto_data()\n",
    "    zf=zipfile.ZipFile('open_data_year_one.zip')\n",
    "    file_handle=zf.open('2015_trip_data.csv')\n",
    "    return pd.read_csv(file_handle)\n",
    "    \n",
    "    \n",
    "def get_weather_data():\n",
    "\n",
    "    \"\"\" Unzips the Pronto bike data zip folder and returns the weather data csv file from it.\"\"\"\n",
    "    \n",
    "    get_pronto_data()\n",
    "    zf=zipfile.ZipFile('open_data_year_one.zip')\n",
    "    file_handle=zf.open('2015_weather_data.csv')\n",
    "    return pd.read_csv(file_handle)\n",
    "\n",
    "\n",
    "def get_trips_and_weather():\n",
    "\n",
    "    \"\"\" Merges the weather and trip data csv files, after setting the indices of \n",
    "        both to the Date of the weather measurement or bike ride.\"\"\"\n",
    "\n",
    "    trips= get_trip_data()\n",
    "    weather = get_weather_data()\n",
    "    trip_date=pd.DatetimeIndex(trips['starttime'])\n",
    "    trip_date.date\n",
    "    trips_by_date = trips.pivot_table('trip_id', aggfunc='count', index=trip_date.date, columns='usertype')\n",
    "    weather = weather.set_index('Date')\n",
    "    weather.index=pd.DatetimeIndex(weather.index)\n",
    "    weather=weather.iloc[:-1]\n",
    "    return weather.join(trips_by_date)\n",
    "\n",
    "\n",
    "def plot_daily_totals():\n",
    "\n",
    "    \"\"\"Plots the daily total bike rides of both Annual and Short-Term Pass Holders\"\"\"\n",
    "\n",
    "    data = get_trips_and_weather()\n",
    "    fig, ax = plt.subplots(2, figsize=(14,6), sharex=True)\n",
    "    data['Annual Member'].plot(ax = ax[0], title = 'Annual Member')\n",
    "    data['Short-Term Pass Holder'].plot(ax=ax[1], title = 'Short-Term Pass Holder')\n",
    "    return fig.savefig('plot_daily_totals.jpg')\n",
    "\n",
    "\n",
    "def remove_data(filename):\n",
    "\n",
    "    \"\"\"\tRemoves the file specified from the directory, if present, else raises exception.\"\"\"\n",
    "\n",
    "    if os.path.isfile(filename):\n",
    "        os.remove(filename)\n",
    "        explanation = 'Data file removed'\n",
    "        return explanation\n",
    "    else:\n",
    "        explanation = 'No such data file exists that can be removed'\n",
    "        return explanation\n",
    "\n",
    "\n",
    "# Run the following code if the file is run at the command line\n",
    "if __name__ == \"__main__\":\n",
    "  plot_daily_totals()"
   ]
  }
 ],
 "metadata": {
  "kernelspec": {
   "display_name": "Python 3",
   "language": "python",
   "name": "python3"
  },
  "language_info": {
   "codemirror_mode": {
    "name": "ipython",
    "version": 3
   },
   "file_extension": ".py",
   "mimetype": "text/x-python",
   "name": "python",
   "nbconvert_exporter": "python",
   "pygments_lexer": "ipython3",
   "version": "3.5.1"
  }
 },
 "nbformat": 4,
 "nbformat_minor": 0
}
