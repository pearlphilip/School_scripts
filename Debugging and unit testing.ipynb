{
 "cells": [
  {
   "cell_type": "markdown",
   "metadata": {},
   "source": [
    "# What is a bug?"
   ]
  },
  {
   "cell_type": "markdown",
   "metadata": {},
   "source": [
    "Bugs are codes that result in errors or wrong results."
   ]
  },
  {
   "cell_type": "code",
   "execution_count": null,
   "metadata": {
    "collapsed": false
   },
   "outputs": [],
   "source": [
    "# Syntax error\n",
    "x = 1; y = 2\n",
    "b = x == y # Boolean variable that is true when x & y have the same value\n",
    "b = 1 = 2  # Syntax error"
   ]
  },
  {
   "cell_type": "code",
   "execution_count": null,
   "metadata": {
    "collapsed": false
   },
   "outputs": [],
   "source": [
    "# Exception - invalid operation\n",
    "5/0  # Division by zero"
   ]
  },
  {
   "cell_type": "code",
   "execution_count": null,
   "metadata": {
    "collapsed": false
   },
   "outputs": [],
   "source": [
    "# Exception - invalid operation\n",
    "'44'/11  # Incompatiable types for the operation"
   ]
  },
  {
   "cell_type": "code",
   "execution_count": null,
   "metadata": {
    "collapsed": false
   },
   "outputs": [],
   "source": [
    "# Incorrect logic\n",
    "import math\n",
    "x = 55\n",
    "math.sin(x)**2 + math.cos(x) == 1  # Should be math.cos(x)**2"
   ]
  },
  {
   "cell_type": "markdown",
   "metadata": {},
   "source": [
    "# Dealing With Exceptions"
   ]
  },
  {
   "cell_type": "markdown",
   "metadata": {},
   "source": [
    "Python allows you to \"catch\" exceptions by enclosing code in a special block, between a try statement and a except statement."
   ]
  },
  {
   "cell_type": "code",
   "execution_count": null,
   "metadata": {
    "collapsed": false
   },
   "outputs": [],
   "source": [
    "# Exception - invalid operation\n",
    "try:\n",
    "  print (5/0)  # Division by zero\n",
    "except:\n",
    "  print (\"Division by 0 doesn't work!\")"
   ]
  },
  {
   "cell_type": "markdown",
   "metadata": {},
   "source": [
    "try ... catch blocks are a common way to deal with operations that can fail, like accessing a server on the Internet."
   ]
  },
  {
   "cell_type": "markdown",
   "metadata": {},
   "source": [
    "# Debugging a Program"
   ]
  },
  {
   "cell_type": "markdown",
   "metadata": {},
   "source": [
    "## Program With Syntax Error"
   ]
  },
  {
   "cell_type": "code",
   "execution_count": null,
   "metadata": {
    "collapsed": false
   },
   "outputs": [],
   "source": [
    "# Buggy Python program to check if the input number is prime or not\n",
    "\n",
    "# take input from the user\n",
    "num = int(input(\"Enter a number: \"))\n",
    "\n",
    "# prime numbers are greater than 1\n",
    "if num > 1:\n",
    "  # check for factors\n",
    "  for i in range(2,num):\n",
    "    if (num % i) == 0:\n",
    "      print(num,\"is not a prime number\")\n",
    "      print(i,\"times\",num//i,\"is\",num)\n",
    "     else:\n",
    "      print(num,\"is a prime number\")\n",
    "       \n",
    "# if input number is less than\n",
    "# or equal to 1, it is not prime\n",
    "else:\n",
    "   print(num,\"is not a prime number\")"
   ]
  },
  {
   "cell_type": "markdown",
   "metadata": {},
   "source": [
    "## Corrected Syntax Error. But still have a logic Error."
   ]
  },
  {
   "cell_type": "code",
   "execution_count": null,
   "metadata": {
    "collapsed": false
   },
   "outputs": [],
   "source": [
    "# Buggy Python program to check if the input number is prime or not\n",
    "\n",
    "# take input from the user\n",
    "num = int(input(\"Enter a number: \"))\n",
    "\n",
    "# prime numbers are greater than 1\n",
    "if num > 1:\n",
    "  # check for factors\n",
    "  for i in range(2,num):\n",
    "    if (num % i) == 0:\n",
    "      print(num,\"is not a prime number\")\n",
    "      print(i,\"times\",num//i,\"is\",num)\n",
    "    else:\n",
    "      print(num,\"is a prime number\")\n",
    "       \n",
    "# if input number is less than\n",
    "# or equal to 1, it is not prime\n",
    "else:\n",
    "   print(num,\"is not a prime number\")"
   ]
  },
  {
   "cell_type": "markdown",
   "metadata": {},
   "source": [
    "# How Do We Find Bugs?"
   ]
  },
  {
   "cell_type": "markdown",
   "metadata": {},
   "source": [
    "# Basics"
   ]
  },
  {
   "cell_type": "markdown",
   "metadata": {},
   "source": [
    "Debugging has the following steps:\n",
    "\n",
    "1. Detection of invalid results\n",
    "2. Isolation of where the program causes the error\n",
    "3. Resolution of how to change the code to eliminate the error"
   ]
  },
  {
   "cell_type": "markdown",
   "metadata": {
    "collapsed": true
   },
   "source": [
    "# Detection"
   ]
  },
  {
   "cell_type": "markdown",
   "metadata": {},
   "source": [
    "### Easier to detect errors if encapsulate code in a function."
   ]
  },
  {
   "cell_type": "code",
   "execution_count": null,
   "metadata": {
    "collapsed": false,
    "scrolled": true
   },
   "outputs": [],
   "source": [
    "# Prime number finder with a logic bug\n",
    "def primeChecker(num):\n",
    "  # Inputs: num - number to evaluate as prime\n",
    "  # Outputs: is_prime - True/False (is/not a prime)\n",
    "  #          explanation - explains why num is not prime\n",
    "\n",
    "  explanation = \"\"\n",
    "  # prime numbers are greater than 1\n",
    "  if num > 1:\n",
    "    # check for factors\n",
    "    for i in range(2,num):\n",
    "      if (num % i) == 0:\n",
    "        is_prime = False\n",
    "        explanation = \"%d times %d is %d\" % (i, num//i, num)\n",
    "      else:\n",
    "        is_prime = True\n",
    "       \n",
    "  # if input number is less than\n",
    "  # or equal to 1, it is not prime\n",
    "  else:\n",
    "    is_prime = False\n",
    "  return (is_prime, explanation)"
   ]
  },
  {
   "cell_type": "code",
   "execution_count": null,
   "metadata": {
    "collapsed": false
   },
   "outputs": [],
   "source": [
    "# Using the function\n",
    "primeChecker(15)"
   ]
  },
  {
   "cell_type": "code",
   "execution_count": null,
   "metadata": {
    "collapsed": false
   },
   "outputs": [],
   "source": [
    "primeChecker(31)"
   ]
  },
  {
   "cell_type": "code",
   "execution_count": null,
   "metadata": {
    "collapsed": false
   },
   "outputs": [],
   "source": [
    "nums = [15, 31, 32]  # Test cases\n",
    "for n in nums:\n",
    "  print (\"%d: %s\" % (n, primeChecker(n)))"
   ]
  },
  {
   "cell_type": "markdown",
   "metadata": {},
   "source": [
    "### Using print statements"
   ]
  },
  {
   "cell_type": "code",
   "execution_count": null,
   "metadata": {
    "collapsed": false,
    "scrolled": true
   },
   "outputs": [],
   "source": [
    "# Prime number finder with a logic bug\n",
    "def primeChecker(num):\n",
    "  # Inputs: num - number to evaluate as prime\n",
    "  # Outputs: is_prime - True/False (is/not a prime)\n",
    "  #          explanation - explains why num is not prime\n",
    "\n",
    "  explanation = \"\"\n",
    "  # prime numbers are greater than 1\n",
    "  if num > 1:\n",
    "    # check for factors\n",
    "    for i in range(2,num):\n",
    "      if (num % i) == 0:\n",
    "        print (\"*num %% i: %d\" % i)  # DEBUG\n",
    "        is_prime = False\n",
    "        explanation = \"%d times %d is %d\" % (i, num//i, num)\n",
    "    else:\n",
    "      print (\"*else:\")  # DEBUG\n",
    "      is_prime = True\n",
    "       \n",
    "  # if input number is less than\n",
    "  # or equal to 1, it is not prime\n",
    "  else:\n",
    "    is_prime = False\n",
    "  return (is_prime, explanation)"
   ]
  },
  {
   "cell_type": "code",
   "execution_count": null,
   "metadata": {
    "collapsed": true
   },
   "outputs": [],
   "source": [
    "# Repeat the test cases\n",
    "nums = [15, 31, 32]  # Test cases\n",
    "for n in nums:\n",
    "  print (\"%d: %s\" % (n, primeChecker(n)))"
   ]
  },
  {
   "cell_type": "markdown",
   "metadata": {},
   "source": [
    "#### Correct Code"
   ]
  },
  {
   "cell_type": "code",
   "execution_count": null,
   "metadata": {
    "collapsed": false,
    "scrolled": true
   },
   "outputs": [],
   "source": [
    "# Prime number finder with a logic bug\n",
    "def primeChecker(num):\n",
    "  # Inputs: num - number to evaluate as prime\n",
    "  # Outputs: is_prime - True/False (is/not a prime)\n",
    "  #          explanation - explains why num is not prime\n",
    "\n",
    "  explanation = \"\"\n",
    "  # prime numbers are greater than 1\n",
    "  if num > 1:\n",
    "    # check for factors\n",
    "    for i in range(2,num):\n",
    "      if (num % i) == 0:\n",
    "        is_prime = False\n",
    "        explanation = \"%d times %d is %d\" % (i, num//i, num)\n",
    "        break\n",
    "    else:\n",
    "      is_prime = True\n",
    "       \n",
    "  # if input number is less than\n",
    "  # or equal to 1, it is not prime\n",
    "  else:\n",
    "    is_prime = False\n",
    "  return (is_prime, explanation)"
   ]
  },
  {
   "cell_type": "markdown",
   "metadata": {},
   "source": [
    "# Unit Tests"
   ]
  },
  {
   "cell_type": "markdown",
   "metadata": {},
   "source": [
    "Python provides help with systematically testing codes via the unittest package."
   ]
  },
  {
   "cell_type": "markdown",
   "metadata": {},
   "source": [
    "Steps:\n",
    "\n",
    "1. Put the code in a separate file with separate functions for simple features.\n",
    "2. Create a unittest template.\n",
    "3. Create separate functions within the template that (a) call the functions to be tested and check the results (using assert statements)."
   ]
  }
 ],
 "metadata": {
  "kernelspec": {
   "display_name": "Python 3",
   "language": "python",
   "name": "python3"
  },
  "language_info": {
   "codemirror_mode": {
    "name": "ipython",
    "version": 3
   },
   "file_extension": ".py",
   "mimetype": "text/x-python",
   "name": "python",
   "nbconvert_exporter": "python",
   "pygments_lexer": "ipython3",
   "version": "3.5.1"
  }
 },
 "nbformat": 4,
 "nbformat_minor": 0
}
