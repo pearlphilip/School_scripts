{
 "cells": [
  {
   "cell_type": "markdown",
   "metadata": {},
   "source": [
    "# Emily's Bike Data Explorations\n",
    "\n",
    "Hi! I'm Emily. I'm 26 years old and I love to ride my bike to work. Unfortunately, it got stolen a few days ago and it was very expensive! I can't afford a new bike just yet so I've decided to use the Pronto bike rental service till I can save up enough for my own set of wheels. <br/>\n",
    "I learned how to use iPython recently and decided to do some snooping of Pronto's user database in Seattle to decide if I should opt for Pronto, and if so, whether to become an annual or a daily pass member.<br/>\n",
    "I hope that at the end of my analysis I can answer the following questions: <br/>\n",
    "<pre>When are the best times of the day and the best days of the month to be using Pronto, considering the bike traffic?\n",
    "Who uses Pronto more, men or women? \n",
    "Who makes more rides through the year, annual or daily pass members?<pre/>"
   ]
  },
  {
   "cell_type": "markdown",
   "metadata": {},
   "source": [
    "I found this data folder 'open_data_year_one.zip' on the Pronto Data Challenge website, containing daily weather, bike trip, bike station and status information. I think I need the trip info for my analysis. First, let me import all the libraries I need!"
   ]
  },
  {
   "cell_type": "code",
   "execution_count": 1,
   "metadata": {
    "collapsed": true
   },
   "outputs": [],
   "source": [
    "import pandas as pd, matplotlib.pyplot as plt, zipfile, ipywidgets\n",
    "from ipywidgets import interact, interactive"
   ]
  },
  {
   "cell_type": "code",
   "execution_count": 2,
   "metadata": {
    "collapsed": false
   },
   "outputs": [
    {
     "data": {
      "text/html": [
       "<div>\n",
       "<table border=\"1\" class=\"dataframe\">\n",
       "  <thead>\n",
       "    <tr style=\"text-align: right;\">\n",
       "      <th></th>\n",
       "      <th>trip_id</th>\n",
       "      <th>starttime</th>\n",
       "      <th>stoptime</th>\n",
       "      <th>bikeid</th>\n",
       "      <th>tripduration</th>\n",
       "      <th>from_station_name</th>\n",
       "      <th>to_station_name</th>\n",
       "      <th>from_station_id</th>\n",
       "      <th>to_station_id</th>\n",
       "      <th>usertype</th>\n",
       "      <th>gender</th>\n",
       "      <th>birthyear</th>\n",
       "    </tr>\n",
       "  </thead>\n",
       "  <tbody>\n",
       "    <tr>\n",
       "      <th>0</th>\n",
       "      <td>431</td>\n",
       "      <td>10/13/2014 10:31</td>\n",
       "      <td>10/13/2014 10:48</td>\n",
       "      <td>SEA00298</td>\n",
       "      <td>985.935</td>\n",
       "      <td>2nd Ave &amp; Spring St</td>\n",
       "      <td>Occidental Park / Occidental Ave S &amp; S Washing...</td>\n",
       "      <td>CBD-06</td>\n",
       "      <td>PS-04</td>\n",
       "      <td>Annual Member</td>\n",
       "      <td>Male</td>\n",
       "      <td>1960</td>\n",
       "    </tr>\n",
       "    <tr>\n",
       "      <th>1</th>\n",
       "      <td>432</td>\n",
       "      <td>10/13/2014 10:32</td>\n",
       "      <td>10/13/2014 10:48</td>\n",
       "      <td>SEA00195</td>\n",
       "      <td>926.375</td>\n",
       "      <td>2nd Ave &amp; Spring St</td>\n",
       "      <td>Occidental Park / Occidental Ave S &amp; S Washing...</td>\n",
       "      <td>CBD-06</td>\n",
       "      <td>PS-04</td>\n",
       "      <td>Annual Member</td>\n",
       "      <td>Male</td>\n",
       "      <td>1970</td>\n",
       "    </tr>\n",
       "    <tr>\n",
       "      <th>2</th>\n",
       "      <td>433</td>\n",
       "      <td>10/13/2014 10:33</td>\n",
       "      <td>10/13/2014 10:48</td>\n",
       "      <td>SEA00486</td>\n",
       "      <td>883.831</td>\n",
       "      <td>2nd Ave &amp; Spring St</td>\n",
       "      <td>Occidental Park / Occidental Ave S &amp; S Washing...</td>\n",
       "      <td>CBD-06</td>\n",
       "      <td>PS-04</td>\n",
       "      <td>Annual Member</td>\n",
       "      <td>Female</td>\n",
       "      <td>1988</td>\n",
       "    </tr>\n",
       "    <tr>\n",
       "      <th>3</th>\n",
       "      <td>434</td>\n",
       "      <td>10/13/2014 10:34</td>\n",
       "      <td>10/13/2014 10:48</td>\n",
       "      <td>SEA00333</td>\n",
       "      <td>865.937</td>\n",
       "      <td>2nd Ave &amp; Spring St</td>\n",
       "      <td>Occidental Park / Occidental Ave S &amp; S Washing...</td>\n",
       "      <td>CBD-06</td>\n",
       "      <td>PS-04</td>\n",
       "      <td>Annual Member</td>\n",
       "      <td>Female</td>\n",
       "      <td>1977</td>\n",
       "    </tr>\n",
       "    <tr>\n",
       "      <th>4</th>\n",
       "      <td>435</td>\n",
       "      <td>10/13/2014 10:34</td>\n",
       "      <td>10/13/2014 10:49</td>\n",
       "      <td>SEA00202</td>\n",
       "      <td>923.923</td>\n",
       "      <td>2nd Ave &amp; Spring St</td>\n",
       "      <td>Occidental Park / Occidental Ave S &amp; S Washing...</td>\n",
       "      <td>CBD-06</td>\n",
       "      <td>PS-04</td>\n",
       "      <td>Annual Member</td>\n",
       "      <td>Male</td>\n",
       "      <td>1971</td>\n",
       "    </tr>\n",
       "  </tbody>\n",
       "</table>\n",
       "</div>"
      ],
      "text/plain": [
       "   trip_id         starttime          stoptime    bikeid  tripduration  \\\n",
       "0      431  10/13/2014 10:31  10/13/2014 10:48  SEA00298       985.935   \n",
       "1      432  10/13/2014 10:32  10/13/2014 10:48  SEA00195       926.375   \n",
       "2      433  10/13/2014 10:33  10/13/2014 10:48  SEA00486       883.831   \n",
       "3      434  10/13/2014 10:34  10/13/2014 10:48  SEA00333       865.937   \n",
       "4      435  10/13/2014 10:34  10/13/2014 10:49  SEA00202       923.923   \n",
       "\n",
       "     from_station_name                                    to_station_name  \\\n",
       "0  2nd Ave & Spring St  Occidental Park / Occidental Ave S & S Washing...   \n",
       "1  2nd Ave & Spring St  Occidental Park / Occidental Ave S & S Washing...   \n",
       "2  2nd Ave & Spring St  Occidental Park / Occidental Ave S & S Washing...   \n",
       "3  2nd Ave & Spring St  Occidental Park / Occidental Ave S & S Washing...   \n",
       "4  2nd Ave & Spring St  Occidental Park / Occidental Ave S & S Washing...   \n",
       "\n",
       "  from_station_id to_station_id       usertype  gender  birthyear  \n",
       "0          CBD-06         PS-04  Annual Member    Male       1960  \n",
       "1          CBD-06         PS-04  Annual Member    Male       1970  \n",
       "2          CBD-06         PS-04  Annual Member  Female       1988  \n",
       "3          CBD-06         PS-04  Annual Member  Female       1977  \n",
       "4          CBD-06         PS-04  Annual Member    Male       1971  "
      ]
     },
     "execution_count": 2,
     "metadata": {},
     "output_type": "execute_result"
    }
   ],
   "source": [
    "trips = pd.read_csv(zipfile.ZipFile('open_data_year_one.zip').open('2015_trip_data.csv'))\n",
    "# Opening the csv file from the zipped folder of all the data.\n",
    "trips.head()\n",
    "# Checking out what trips looks like."
   ]
  },
  {
   "cell_type": "markdown",
   "metadata": {},
   "source": [
    "Uh oh! There is no useful index for this table. Let's make the index the datetime of the trips and sort the table by this index, to make it easier to work on"
   ]
  },
  {
   "cell_type": "code",
   "execution_count": 3,
   "metadata": {
    "collapsed": false
   },
   "outputs": [],
   "source": [
    "trip_times = pd.DatetimeIndex(trips['starttime'])\n",
    "trips = trips.set_index(trip_times)\n",
    "trips.index.name = 'Date'\n",
    "# Created an index using the Datetime of the start time of the trips.\n",
    "\n",
    "trips = trips.sort_index()\n",
    "# Sorted by date."
   ]
  },
  {
   "cell_type": "code",
   "execution_count": 4,
   "metadata": {
    "collapsed": false
   },
   "outputs": [
    {
     "data": {
      "text/html": [
       "<div>\n",
       "<table border=\"1\" class=\"dataframe\">\n",
       "  <thead>\n",
       "    <tr style=\"text-align: right;\">\n",
       "      <th></th>\n",
       "      <th>trip_id</th>\n",
       "      <th>starttime</th>\n",
       "      <th>stoptime</th>\n",
       "      <th>bikeid</th>\n",
       "      <th>tripduration</th>\n",
       "      <th>from_station_name</th>\n",
       "      <th>to_station_name</th>\n",
       "      <th>from_station_id</th>\n",
       "      <th>to_station_id</th>\n",
       "      <th>usertype</th>\n",
       "      <th>gender</th>\n",
       "      <th>birthyear</th>\n",
       "    </tr>\n",
       "    <tr>\n",
       "      <th>Date</th>\n",
       "      <th></th>\n",
       "      <th></th>\n",
       "      <th></th>\n",
       "      <th></th>\n",
       "      <th></th>\n",
       "      <th></th>\n",
       "      <th></th>\n",
       "      <th></th>\n",
       "      <th></th>\n",
       "      <th></th>\n",
       "      <th></th>\n",
       "      <th></th>\n",
       "    </tr>\n",
       "  </thead>\n",
       "  <tbody>\n",
       "    <tr>\n",
       "      <th>2014-10-13 10:31:00</th>\n",
       "      <td>431</td>\n",
       "      <td>10/13/2014 10:31</td>\n",
       "      <td>10/13/2014 10:48</td>\n",
       "      <td>SEA00298</td>\n",
       "      <td>985.935</td>\n",
       "      <td>2nd Ave &amp; Spring St</td>\n",
       "      <td>Occidental Park / Occidental Ave S &amp; S Washing...</td>\n",
       "      <td>CBD-06</td>\n",
       "      <td>PS-04</td>\n",
       "      <td>Annual Member</td>\n",
       "      <td>Male</td>\n",
       "      <td>1960</td>\n",
       "    </tr>\n",
       "    <tr>\n",
       "      <th>2014-10-13 10:32:00</th>\n",
       "      <td>432</td>\n",
       "      <td>10/13/2014 10:32</td>\n",
       "      <td>10/13/2014 10:48</td>\n",
       "      <td>SEA00195</td>\n",
       "      <td>926.375</td>\n",
       "      <td>2nd Ave &amp; Spring St</td>\n",
       "      <td>Occidental Park / Occidental Ave S &amp; S Washing...</td>\n",
       "      <td>CBD-06</td>\n",
       "      <td>PS-04</td>\n",
       "      <td>Annual Member</td>\n",
       "      <td>Male</td>\n",
       "      <td>1970</td>\n",
       "    </tr>\n",
       "    <tr>\n",
       "      <th>2014-10-13 10:33:00</th>\n",
       "      <td>433</td>\n",
       "      <td>10/13/2014 10:33</td>\n",
       "      <td>10/13/2014 10:48</td>\n",
       "      <td>SEA00486</td>\n",
       "      <td>883.831</td>\n",
       "      <td>2nd Ave &amp; Spring St</td>\n",
       "      <td>Occidental Park / Occidental Ave S &amp; S Washing...</td>\n",
       "      <td>CBD-06</td>\n",
       "      <td>PS-04</td>\n",
       "      <td>Annual Member</td>\n",
       "      <td>Female</td>\n",
       "      <td>1988</td>\n",
       "    </tr>\n",
       "    <tr>\n",
       "      <th>2014-10-13 10:34:00</th>\n",
       "      <td>434</td>\n",
       "      <td>10/13/2014 10:34</td>\n",
       "      <td>10/13/2014 10:48</td>\n",
       "      <td>SEA00333</td>\n",
       "      <td>865.937</td>\n",
       "      <td>2nd Ave &amp; Spring St</td>\n",
       "      <td>Occidental Park / Occidental Ave S &amp; S Washing...</td>\n",
       "      <td>CBD-06</td>\n",
       "      <td>PS-04</td>\n",
       "      <td>Annual Member</td>\n",
       "      <td>Female</td>\n",
       "      <td>1977</td>\n",
       "    </tr>\n",
       "    <tr>\n",
       "      <th>2014-10-13 10:34:00</th>\n",
       "      <td>435</td>\n",
       "      <td>10/13/2014 10:34</td>\n",
       "      <td>10/13/2014 10:49</td>\n",
       "      <td>SEA00202</td>\n",
       "      <td>923.923</td>\n",
       "      <td>2nd Ave &amp; Spring St</td>\n",
       "      <td>Occidental Park / Occidental Ave S &amp; S Washing...</td>\n",
       "      <td>CBD-06</td>\n",
       "      <td>PS-04</td>\n",
       "      <td>Annual Member</td>\n",
       "      <td>Male</td>\n",
       "      <td>1971</td>\n",
       "    </tr>\n",
       "  </tbody>\n",
       "</table>\n",
       "</div>"
      ],
      "text/plain": [
       "                     trip_id         starttime          stoptime    bikeid  \\\n",
       "Date                                                                         \n",
       "2014-10-13 10:31:00      431  10/13/2014 10:31  10/13/2014 10:48  SEA00298   \n",
       "2014-10-13 10:32:00      432  10/13/2014 10:32  10/13/2014 10:48  SEA00195   \n",
       "2014-10-13 10:33:00      433  10/13/2014 10:33  10/13/2014 10:48  SEA00486   \n",
       "2014-10-13 10:34:00      434  10/13/2014 10:34  10/13/2014 10:48  SEA00333   \n",
       "2014-10-13 10:34:00      435  10/13/2014 10:34  10/13/2014 10:49  SEA00202   \n",
       "\n",
       "                     tripduration    from_station_name  \\\n",
       "Date                                                     \n",
       "2014-10-13 10:31:00       985.935  2nd Ave & Spring St   \n",
       "2014-10-13 10:32:00       926.375  2nd Ave & Spring St   \n",
       "2014-10-13 10:33:00       883.831  2nd Ave & Spring St   \n",
       "2014-10-13 10:34:00       865.937  2nd Ave & Spring St   \n",
       "2014-10-13 10:34:00       923.923  2nd Ave & Spring St   \n",
       "\n",
       "                                                       to_station_name  \\\n",
       "Date                                                                     \n",
       "2014-10-13 10:31:00  Occidental Park / Occidental Ave S & S Washing...   \n",
       "2014-10-13 10:32:00  Occidental Park / Occidental Ave S & S Washing...   \n",
       "2014-10-13 10:33:00  Occidental Park / Occidental Ave S & S Washing...   \n",
       "2014-10-13 10:34:00  Occidental Park / Occidental Ave S & S Washing...   \n",
       "2014-10-13 10:34:00  Occidental Park / Occidental Ave S & S Washing...   \n",
       "\n",
       "                    from_station_id to_station_id       usertype  gender  \\\n",
       "Date                                                                       \n",
       "2014-10-13 10:31:00          CBD-06         PS-04  Annual Member    Male   \n",
       "2014-10-13 10:32:00          CBD-06         PS-04  Annual Member    Male   \n",
       "2014-10-13 10:33:00          CBD-06         PS-04  Annual Member  Female   \n",
       "2014-10-13 10:34:00          CBD-06         PS-04  Annual Member  Female   \n",
       "2014-10-13 10:34:00          CBD-06         PS-04  Annual Member    Male   \n",
       "\n",
       "                     birthyear  \n",
       "Date                            \n",
       "2014-10-13 10:31:00       1960  \n",
       "2014-10-13 10:32:00       1970  \n",
       "2014-10-13 10:33:00       1988  \n",
       "2014-10-13 10:34:00       1977  \n",
       "2014-10-13 10:34:00       1971  "
      ]
     },
     "execution_count": 4,
     "metadata": {},
     "output_type": "execute_result"
    }
   ],
   "source": [
    "trips.head()"
   ]
  },
  {
   "cell_type": "markdown",
   "metadata": {},
   "source": [
    "There we go! Our Trips dataframe is prepped and ready to go!"
   ]
  },
  {
   "cell_type": "code",
   "execution_count": 5,
   "metadata": {
    "collapsed": false
   },
   "outputs": [],
   "source": [
    "%matplotlib inline \n",
    "# To make my plots appear in the same window as my code."
   ]
  },
  {
   "cell_type": "markdown",
   "metadata": {},
   "source": [
    "Our first aim is to find the daily ride profiles so that I can find the best ride times in the day and the best days, in a certain month of the selected year"
   ]
  },
  {
   "cell_type": "code",
   "execution_count": 13,
   "metadata": {
    "collapsed": false
   },
   "outputs": [],
   "source": [
    "def limits(array):\n",
    "    \n",
    "    '''Returns the upper and lower limits of an array as a tuple'''\n",
    "    \n",
    "    minlim = array.min()\n",
    "    maxlim = array.max()\n",
    "    \n",
    "    return (minlim, maxlim)\n",
    "\n",
    "def plot_month_rides(Month):\n",
    "    \n",
    "    '''Function plots the monthly rides'''\n",
    "    \n",
    "    rides1 = trips[trips.index.month == int(Month)]\n",
    "    rides_month = rides1.pivot_table('trip_id', aggfunc = 'count', index = rides1.index.day)\n",
    "    \n",
    "    plt.scatter(rides_month.index, rides_month)#, color = 'brown')\n",
    "    plt.title('Ride Counts in the month chosen')\n",
    "    plt.xlim(limits(rides_month.index))\n",
    "    plt.ylim(0,1000)\n",
    "    plt.xlabel('Day of the Month')\n",
    "    plt.ylabel('Number of rides')\n",
    "\n",
    "\n",
    "def plot_weekday_rides(Month, Day):\n",
    "    \n",
    "    '''Function plots the rides during the day of the month chosen'''\n",
    "    \n",
    "    rides1 = trips[trips.index.month == int(Month)]\n",
    "    rides_month = rides1.pivot_table('trip_id', aggfunc = 'count', index = rides1.index.day)\n",
    "    rides_day = rides1[rides1.index.weekday == int(Day)]\n",
    "    rides_day = rides_day.pivot_table('trip_id', aggfunc = 'count', index = rides_day.index.hour)\n",
    "    \n",
    "    plt.scatter(rides_day.index, rides_day)#, color = 'purple')\n",
    "    plt.title('Ride Counts for the chosen weekday of the chosen month')\n",
    "    plt.xlim(limits(rides_day.index))\n",
    "    plt.ylim(0, 350)\n",
    "    plt.xlabel('Hours')\n",
    "    plt.ylabel('Number of rides')\n",
    "    \n",
    "def interactive_plot_month_rides():\n",
    "    \n",
    "    '''Function creates an interactive plot of the rides for each day of the month'''\n",
    "    \n",
    "    return(interact(plot_month_rides, Month = {'Jan' : 1, 'Feb' : 2, 'Mar' : 3, 'Apr' : 4, 'May' : 5, 'Jun' : 6, 'Jul' : 7, 'Aug' : 8, 'Sep' : 9, 'Oct' : 10, 'Nov' : 11, 'Dec' : 12 })) \n",
    "\n",
    "def interactive_plot_weekday_rides():\n",
    "    \n",
    "    '''Function creates an interactive plot of the rides for each day of the week'''\n",
    "    \n",
    "    return(interact(plot_weekday_rides, Month = {'Jan' : 1, 'Feb' : 2, 'Mar' : 3, 'Apr' : 4, 'May' : 5, 'Jun' : 6, 'Jul' : 7, 'Aug' : 8, 'Sep' : 9, 'Oct' : 10, 'Nov' : 11, 'Dec' : 12 }, Day = {'Sun' : 6 , 'Mon' : 0 , 'Tue' : 1 , 'Wed' : 2 , 'Thu' : 3 , 'Fri' : 4 , 'Sat' : 5 })) "
   ]
  },
  {
   "cell_type": "code",
   "execution_count": 14,
   "metadata": {
    "collapsed": false
   },
   "outputs": [
    {
     "data": {
      "text/plain": [
       "<function __main__.plot_month_rides>"
      ]
     },
     "execution_count": 14,
     "metadata": {},
     "output_type": "execute_result"
    },
    {
     "data": {
      "image/png": "[encoded data removed]",
      "text/plain": [
       "<matplotlib.figure.Figure at 0x752206cb38>"
      ]
     },
     "metadata": {},
     "output_type": "display_data"
    }
   ],
   "source": [
    "interactive_plot_month_rides()"
   ]
  },
  {
   "cell_type": "code",
   "execution_count": 8,
   "metadata": {
    "collapsed": false
   },
   "outputs": [
    {
     "data": {
      "text/plain": [
       "<function __main__.plot_weekday_rides>"
      ]
     },
     "execution_count": 8,
     "metadata": {},
     "output_type": "execute_result"
    },
    {
     "data": {
      "image/png": "[encoded data removed]",
      "text/plain": [
       "<matplotlib.figure.Figure at 0x7520fe0160>"
      ]
     },
     "metadata": {},
     "output_type": "display_data"
    }
   ],
   "source": [
    "interactive_plot_weekday_rides()"
   ]
  },
  {
   "cell_type": "markdown",
   "metadata": {},
   "source": [
    "<hr>\n",
    "Our second aim was to find out who uses Pronto more - men or women. Going through all those columns of the dataframe trips will be difficult, so let's isolate gender-ride info and create a plot of how each gender used Pronto bikes in the two years 2014 and 2015."
   ]
  },
  {
   "cell_type": "code",
   "execution_count": 9,
   "metadata": {
    "collapsed": false
   },
   "outputs": [
    {
     "data": {
      "image/png": "[encoded data removed]",
      "text/plain": [
       "<matplotlib.figure.Figure at 0x75212a6828>"
      ]
     },
     "metadata": {},
     "output_type": "display_data"
    }
   ],
   "source": [
    "def plot_gender_by_counts_in_year(Gender, Year):\n",
    "    \n",
    "    '''Function plots the ride counts of a selected gender for a certain year'''\n",
    "    \n",
    "    trips_gender = trips.pivot_table('trip_id', aggfunc = 'count', index = trips.index, columns = 'gender')\n",
    "    trips_gender_times = pd.DatetimeIndex(trips_gender.index)\n",
    "    trips_gender = trips_gender.groupby(trips_gender_times.date).sum()\n",
    "    trips_gender.index.name = 'Date'\n",
    "    trips_gender = trips_gender[Gender]\n",
    "    times = pd.DatetimeIndex(trips_gender.index)\n",
    "    trips_gender_year = trips_gender[times.year == int(Year)]\n",
    "    \n",
    "    plt.plot(trips_gender_year)\n",
    "    plt.ylim(0, 350)\n",
    "    plt.xlabel('Date')\n",
    "    plt.ylabel('Number of rides')\n",
    "\n",
    "interact(plot_gender_by_counts_in_year, Gender = ipywidgets.RadioButtons(description = 'Gender', options = ['Female', 'Male', 'Other']), Year = ['2014','2015']);"
   ]
  },
  {
   "cell_type": "markdown",
   "metadata": {},
   "source": [
    "<hr>\n",
    "Our third aim was to find out who makes more rides and rides longer, annual or daily pass members."
   ]
  },
  {
   "cell_type": "code",
   "execution_count": 10,
   "metadata": {
    "collapsed": false
   },
   "outputs": [
    {
     "data": {
      "text/plain": [
       "<function __main__.plot_members_by_count_and_duration>"
      ]
     },
     "execution_count": 10,
     "metadata": {},
     "output_type": "execute_result"
    },
    {
     "data": {
      "image/png": "[encoded data removed]",
      "text/plain": [
       "<matplotlib.figure.Figure at 0x75212018d0>"
      ]
     },
     "metadata": {},
     "output_type": "display_data"
    }
   ],
   "source": [
    "def plot_members_by_count_and_duration(Member, Plotting): \n",
    "    \n",
    "    '''Function plots the ride counts or ride duration of a selected usertype as a function of time'''\n",
    "    \n",
    "    trips_count = trips.pivot_table('trip_id', aggfunc = 'count', index = trips.index, columns = 'usertype')\n",
    "    trips_count_times = pd.DatetimeIndex(trips_count.index)\n",
    "    trips_count = trips_count.groupby(trips_count_times.date).sum()\n",
    "    trips_count.index.name = 'Date'\n",
    "    trips_count.rename(columns = {'Annual Member':\"Annual Member Ride Count\", 'Short-Term Pass Holder':\"Short-Term Pass Holder Ride Count\"}, inplace = True)\n",
    "    # trips_count is a Dataframe of the ride counts of each type of member over time\n",
    "    \n",
    "    trips_duration = trips.groupby([trips.index.date,\"usertype\"])[\"tripduration\"].mean()\n",
    "    trips_duration = trips_duration.unstack()\n",
    "    trips_duration.index.name = 'Date'\n",
    "    trips_duration.rename(columns = {'Annual Member':\"Annual Member Avg Ride Duration in seconds\", 'Short-Term Pass Holder': \"Short-Term Pass Holder Avg Ride Duration in seconds\"}, inplace = True)\n",
    "    # trips_duration is a Dataframe of the ride duration of each type of member over time, in seconds\n",
    "    \n",
    "    t = trips_count.join(trips_duration)\n",
    "    # Joining the two Dataframes\n",
    "    \n",
    "    # Applying conditions for plotting, \n",
    "    if Plotting == 'Avg Ride Duration' and Member == 'Annual Member ':\n",
    "        plt.scatter(t.index, t['Annual Member Avg Ride Duration in seconds'], alpha = 0.2)\n",
    "        plt.ylabel('Ride Duration in seconds')\n",
    "        plt.ylim(400, 4500)\n",
    "    elif Plotting == 'Avg Ride Duration' and Member == 'Short-Term Pass Holder ':\n",
    "        plt.scatter(t.index, t['Short-Term Pass Holder Avg Ride Duration in seconds'], alpha = 0.2)\n",
    "        plt.ylabel('Ride Duration in seconds')\n",
    "        plt.ylim(400, 4500)\n",
    "    elif Plotting == 'Ride Count' and Member == 'Annual Member ':\n",
    "        plt.scatter(t.index, t['Annual Member Ride Count'], alpha = 0.2)\n",
    "        plt.ylabel('Ride Count')\n",
    "        plt.ylim(0, 700)\n",
    "    else:\n",
    "        plt.scatter(t.index, t['Short-Term Pass Holder Ride Count'], alpha = 0.2)\n",
    "        plt.ylabel('Ride Count')\n",
    "        plt.ylim(0, 700)\n",
    "    \n",
    "    plt.xlabel('Date')\n",
    "    plt.title( Member+ Plotting)\n",
    "    \n",
    "interact(plot_members_by_count_and_duration, Member = ['Annual Member ', 'Short-Term Pass Holder '], Plotting = ['Avg Ride Duration', 'Ride Count'])"
   ]
  },
  {
   "cell_type": "markdown",
   "metadata": {
    "collapsed": true
   },
   "source": [
    "<hr>In this analysis, we find the solution to our questions<br/>\n",
    "<pre><b>When are the best times of the day and the best days of the month to be using Pronto, considering the bike traffic?</b><pre>\n",
    "The summer months show maximum traffic, while the winter months show the least.<br> The peak hours of the day are 7-10am and 4-6pm. There is no useful trend in ride counts over a certain month.\n",
    "</pre><b>Who uses Pronto more, men or women? </b><pre>\n",
    "Men use Pronto about 5 times as much as women.\n",
    "</pre><b>Who makes more rides through the year, annual or daily pass members?</b><pre>\n",
    "Annual members make more ride counts than daily pass members but ride about 1/4th the duration<br>as compared to daily pass members."
   ]
  },
  {
   "cell_type": "markdown",
   "metadata": {},
   "source": [
    "Let's use Pronto!\n",
    "\n",
    "<hr>\n",
    "In my analysis, I used the magic command %matplotlib inline to print my plots in the same window as my scripts.<br>\n",
    "I used the shell commands pwd , ls , cd and ipython notebook to change directories and start this Jupyter Notebook. <br>\n",
    "I used the shortcuts Shift+Enter to execute commands, and Tab completion to work faster. <br>\n",
    "Making use of Markdown cell types, I was able to write Emily's story. <br>\n",
    "<hr>"
   ]
  },
  {
   "cell_type": "code",
   "execution_count": null,
   "metadata": {
    "collapsed": true
   },
   "outputs": [],
   "source": []
  }
 ],
 "metadata": {
  "kernelspec": {
   "display_name": "Python 3",
   "language": "python",
   "name": "python3"
  },
  "language_info": {
   "codemirror_mode": {
    "name": "ipython",
    "version": 3
   },
   "file_extension": ".py",
   "mimetype": "text/x-python",
   "name": "python",
   "nbconvert_exporter": "python",
   "pygments_lexer": "ipython3",
   "version": "3.5.1"
  }
 },
 "nbformat": 4,
 "nbformat_minor": 0
}
